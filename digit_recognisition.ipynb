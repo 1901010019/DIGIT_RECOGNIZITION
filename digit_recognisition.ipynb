{
 "metadata": {
  "language_info": {
   "codemirror_mode": {
    "name": "ipython",
    "version": 3
   },
   "file_extension": ".py",
   "mimetype": "text/x-python",
   "name": "python",
   "nbconvert_exporter": "python",
   "pygments_lexer": "ipython3",
   "version": "3.7.10"
  },
  "orig_nbformat": 2,
  "kernelspec": {
   "name": "python3710jvsc74a57bd0850c152f8f84f3548ed5f09fd834180be13dced819bcdf283d955f3afcab8cf5",
   "display_name": "Python 3.7.10 64-bit ('myenv': conda)"
  }
 },
 "nbformat": 4,
 "nbformat_minor": 2,
 "cells": [
  {
   "cell_type": "code",
   "execution_count": 44,
   "metadata": {},
   "outputs": [],
   "source": [
    "import numpy as np \n",
    "import pandas as pd \n",
    "import tensorflow as tf \n",
    "from keras.preprocessing.image import ImageDataGenerator\n",
    "import matplotlib.pyplot as plt \n",
    "from keras.optimizers import RMSprop"
   ]
  },
  {
   "cell_type": "code",
   "execution_count": 7,
   "metadata": {},
   "outputs": [],
   "source": [
    "data = pd.read_csv('train.csv')"
   ]
  },
  {
   "cell_type": "code",
   "execution_count": 8,
   "metadata": {},
   "outputs": [
    {
     "output_type": "stream",
     "name": "stdout",
     "text": [
      "<class 'pandas.core.frame.DataFrame'>\nRangeIndex: 42000 entries, 0 to 41999\nColumns: 785 entries, label to pixel783\ndtypes: int64(785)\nmemory usage: 251.5 MB\n"
     ]
    }
   ],
   "source": [
    "data.info()"
   ]
  },
  {
   "cell_type": "code",
   "execution_count": 12,
   "metadata": {},
   "outputs": [],
   "source": [
    "y = data['label']\n",
    "x = data.drop(labels=['label'], axis=1)"
   ]
  },
  {
   "cell_type": "code",
   "execution_count": 15,
   "metadata": {},
   "outputs": [
    {
     "output_type": "execute_result",
     "data": {
      "text/plain": [
       "((42000,), (42000, 784))"
      ]
     },
     "metadata": {},
     "execution_count": 15
    }
   ],
   "source": [
    "y.shape, x.shape"
   ]
  },
  {
   "cell_type": "code",
   "execution_count": 19,
   "metadata": {},
   "outputs": [
    {
     "output_type": "execute_result",
     "data": {
      "text/plain": [
       "(array([1, 0, 4, 7, 3, 5, 8, 9, 2, 6], dtype=int64), 10)"
      ]
     },
     "metadata": {},
     "execution_count": 19
    }
   ],
   "source": [
    "unique = data['label'].unique()\n",
    "unique , len(unique) # so there are 10 unique value mainly from 0 to 9"
   ]
  },
  {
   "cell_type": "code",
   "execution_count": 20,
   "metadata": {},
   "outputs": [],
   "source": [
    "# splitting the dataset into training and test data set\n",
    "from sklearn.model_selection import train_test_split\n",
    "x_train, x_test, y_train, y_test = train_test_split(x,y,test_size=0.2, random_state=42)"
   ]
  },
  {
   "cell_type": "code",
   "execution_count": 22,
   "metadata": {},
   "outputs": [],
   "source": [
    "# now we need to rehsape our dataset\n",
    "x_train = x_train.values.reshape(-1,28,28,1)\n",
    "x_test = x_test.values.reshape(-1,28,28,1)"
   ]
  },
  {
   "cell_type": "code",
   "execution_count": 26,
   "metadata": {},
   "outputs": [
    {
     "output_type": "execute_result",
     "data": {
      "text/plain": [
       "(28, 28, 1)"
      ]
     },
     "metadata": {},
     "execution_count": 26
    }
   ],
   "source": [
    "# determine the shape of input image\n",
    "in_shape = x_train.shape[1:]\n",
    "in_shape"
   ]
  },
  {
   "cell_type": "code",
   "execution_count": 29,
   "metadata": {},
   "outputs": [
    {
     "output_type": "execute_result",
     "data": {
      "text/plain": [
       "<matplotlib.image.AxesImage at 0x1cd8e4345c8>"
      ]
     },
     "metadata": {},
     "execution_count": 29
    },
    {
     "output_type": "display_data",
     "data": {
      "text/plain": "<Figure size 432x288 with 1 Axes>",
      "image/svg+xml": "<?xml version=\"1.0\" encoding=\"utf-8\" standalone=\"no\"?>\r\n<!DOCTYPE svg PUBLIC \"-//W3C//DTD SVG 1.1//EN\"\r\n  \"http://www.w3.org/Graphics/SVG/1.1/DTD/svg11.dtd\">\r\n<!-- Created with matplotlib (https://matplotlib.org/) -->\r\n<svg height=\"248.518125pt\" version=\"1.1\" viewBox=\"0 0 251.565 248.518125\" width=\"251.565pt\" xmlns=\"http://www.w3.org/2000/svg\" xmlns:xlink=\"http://www.w3.org/1999/xlink\">\r\n <metadata>\r\n  <rdf:RDF xmlns:cc=\"http://creativecommons.org/ns#\" xmlns:dc=\"http://purl.org/dc/elements/1.1/\" xmlns:rdf=\"http://www.w3.org/1999/02/22-rdf-syntax-ns#\">\r\n   <cc:Work>\r\n    <dc:type rdf:resource=\"http://purl.org/dc/dcmitype/StillImage\"/>\r\n    <dc:date>2021-05-24T11:52:48.399481</dc:date>\r\n    <dc:format>image/svg+xml</dc:format>\r\n    <dc:creator>\r\n     <cc:Agent>\r\n      <dc:title>Matplotlib v3.3.4, https://matplotlib.org/</dc:title>\r\n     </cc:Agent>\r\n    </dc:creator>\r\n   </cc:Work>\r\n  </rdf:RDF>\r\n </metadata>\r\n <defs>\r\n  <style type=\"text/css\">*{stroke-linecap:butt;stroke-linejoin:round;}</style>\r\n </defs>\r\n <g id=\"figure_1\">\r\n  <g id=\"patch_1\">\r\n   <path d=\"M 0 248.518125 \r\nL 251.565 248.518125 \r\nL 251.565 0 \r\nL 0 0 \r\nz\r\n\" style=\"fill:none;\"/>\r\n  </g>\r\n  <g id=\"axes_1\">\r\n   <g id=\"patch_2\">\r\n    <path d=\"M 26.925 224.64 \r\nL 244.365 224.64 \r\nL 244.365 7.2 \r\nL 26.925 7.2 \r\nz\r\n\" style=\"fill:#ffffff;\"/>\r\n   </g>\r\n   <g clip-path=\"url(#pc983fdba78)\">\r\n    <image height=\"218\" id=\"image3454e5d3a2\" transform=\"scale(1 -1)translate(0 -218)\" width=\"218\" x=\"26.925\" xlink:href=\"data:image/png;base64,\r\niVBORw0KGgoAAAANSUhEUgAAANoAAADaCAYAAADAHVzbAAAGgklEQVR4nO3d/6+WdR3H8es+EiyMFQpJX9akgKjQzQyCfnBZB7d+ONLcCWxuRbblkmoNwllbX2wrFkuzPIZpbThdbrVFa4vVLNZQsRwMS4aKdtxaUmY0ivALcp+7f8DrTRw4r3Pwfjx+fZ3rnOuX5z7buXbdd2ewM9xrgAk1MNk3AP1AaBAgNAgQGgQIDQKEBgFCgwChQYDQIEBoECA0CBAaBAgNAoQGAUKDAKFBgNAgQGgQIDQIEBoECA0ChAYBQoMAoUGA0CBAaBAgNAgQGgQIDQKEBgFCgwChQYDQIEBoECA0CBAaBAgNAoQGAUKDAKFBgNAgQGgQIDQIEBoECA0ChAYB0yb7BqaqzowZ5X7gjneV+55LR1q3lV/bUF77+p3PlHv3idFyZ+pxokGA0CBAaBAgNAgQGgQIDQKEBgGdwc5wb7JvYip67or3lvvvbtkyYX/7vhfqx5s3jA6V+8y1L5X78acPnvQ9cWqcaBAgNAgQGgQIDQKEBgFCgwCvybT469DxCfvdh8aeL/enj7+l3H/zzm3l/vXtF5T79u9e0rrN+em+8tqxI0fKnZfnRIMAoUGA0CBAaBAgNAgQGgQIDQK8JtPim089VO5He9PLfeG0/7Zuqx75RHntnLWHy/1vqxeW+90bbyz3xa9q/yi9d3/7M+W1876zq9x5eU40CBAaBAgNAoQGAUKDAKFBgNAgoG+fox3+2Ipyv39T+9cuNU3TLP7JunKfu6d9+8Wm+jnX8t9+rtwXri1+edM00+adV+4bH7i3dVsyvX7fbMU9Xyj3BTf8qdzHjh4t91cqJxoECA0ChAYBQoMAoUGA0CBAaBDQt5/r2G1/JatpmqYZaDrlfu7D9f7aux9s3T60pn4f7fGVt5f7xRs+W+5vuLF+Z2zzsve3bpftHC2vfeyqW8t9wZxPlfuiq3eX+yuVEw0ChAYBQoMAoUGA0CBAaBDQt//eP1W9jxyqf+DO9umczWeXl+7cWn+U3eZP/6jcv7f98nLvPvpE67bt+svKa1eN3FTuuwZvLvdPLvp4+30d+HN57ZnMiQYBQoMAoUGA0CBAaBAgNAgQGgT07XO0V/9zrNyf7x0r97lnt38tU9M0TbfYBu7bW1573bfqV00e+mr9qsqhn+8o99uuH27dZt1fvybzgV+uL/cnV91W7o9fO7d1W/B5z9GAUyA0CBAaBAgNAoQGAUKDAKFBQN8+R5u57Q/lfuGHry33JecfLPdup/g4ul79TVlz7vh9uS96R31v+1ffUu5Xjmxp3daM1u+jXdzUz9lOpDfQl98S5kSDBKFBgNAgQGgQIDQIEBoECA0COoOd4f58sHECf/nK+8p93zUj5T608srWrbv/wLju6f/Vec+Scv/g1vavlFo/u/0zH0+HPcfa39T78vylE/q3J5MTDQKEBgFCgwChQYDQIEBoECA0COjb99FOZP49f69/4Jp6PnzhOa3brP3juKGT0Nu9r9x3rHhj67blG4PltXuvuLncX9OZUe4/eObSYq0/K/NM5kSDAKFBgNAgQGgQIDQIEBoEeE2mxVmzZ5f7m35Vf63T+vPubd02LF1VXtt99tlyn0wvDC0r939cVD8xmn/rY61b99C/xnVPZwInGgQIDQKEBgFCgwChQYDQIEBoEOA52jj9+6rl5f7A5u+3bm//8bry2rdtbP84OM5MTjQIEBoECA0ChAYBQoMAoUGA0CDAc7Rx6syoP1ZtaO/B1m33f84vrz24/Mh4bokpzIkGAUKDAKFBgNAgQGgQIDQIEBoE+Nqmceq9+GK5/3BkqHW787qbyms/+sX15f7mTbvKnanHiQYBQoMAoUGA0CBAaBAgNAgQGgR4jjZB5t31SOu2Y93i8tpjFzx3um+HSeZEgwChQYDQIEBoECA0CBAaBPj3/gQZO9L+kXF3jS4rr/3jJbeX+/CCNeXeffKpcifPiQYBQoMAoUGA0CBAaBAgNAgQGgR4jjYJXuqeVe4zB6aX+6NfOrfcF13tOdpU40SDAKFBgNAgQGgQIDQIEBoECA0CPEebBK/bOqvcu0vHyn31RbvL/eGTvSEmnBMNAoQGAUKDAKFBgNAgQGgQIDQI8BxtChpreuX+s1+vKPe3Ng+eztvhNHCiQYDQIEBoECA0CBAaBAgNAjqDneH6f8nAKXOiQYDQIEBoECA0CBAaBAgNAoQGAUKDAKFBgNAgQGgQIDQIEBoECA0ChAYB/wMF3fqpJa0H6wAAAABJRU5ErkJggg==\" y=\"-6.64\"/>\r\n   </g>\r\n   <g id=\"matplotlib.axis_1\">\r\n    <g id=\"xtick_1\">\r\n     <g id=\"line2d_1\">\r\n      <defs>\r\n       <path d=\"M 0 0 \r\nL 0 3.5 \r\n\" id=\"m6e871d62b4\" style=\"stroke:#000000;stroke-width:0.8;\"/>\r\n      </defs>\r\n      <g>\r\n       <use style=\"stroke:#000000;stroke-width:0.8;\" x=\"30.807857\" xlink:href=\"#m6e871d62b4\" y=\"224.64\"/>\r\n      </g>\r\n     </g>\r\n     <g id=\"text_1\">\r\n      <!-- 0 -->\r\n      <g transform=\"translate(27.626607 239.238437)scale(0.1 -0.1)\">\r\n       <defs>\r\n        <path d=\"M 31.78125 66.40625 \r\nQ 24.171875 66.40625 20.328125 58.90625 \r\nQ 16.5 51.421875 16.5 36.375 \r\nQ 16.5 21.390625 20.328125 13.890625 \r\nQ 24.171875 6.390625 31.78125 6.390625 \r\nQ 39.453125 6.390625 43.28125 13.890625 \r\nQ 47.125 21.390625 47.125 36.375 \r\nQ 47.125 51.421875 43.28125 58.90625 \r\nQ 39.453125 66.40625 31.78125 66.40625 \r\nz\r\nM 31.78125 74.21875 \r\nQ 44.046875 74.21875 50.515625 64.515625 \r\nQ 56.984375 54.828125 56.984375 36.375 \r\nQ 56.984375 17.96875 50.515625 8.265625 \r\nQ 44.046875 -1.421875 31.78125 -1.421875 \r\nQ 19.53125 -1.421875 13.0625 8.265625 \r\nQ 6.59375 17.96875 6.59375 36.375 \r\nQ 6.59375 54.828125 13.0625 64.515625 \r\nQ 19.53125 74.21875 31.78125 74.21875 \r\nz\r\n\" id=\"DejaVuSans-48\"/>\r\n       </defs>\r\n       <use xlink:href=\"#DejaVuSans-48\"/>\r\n      </g>\r\n     </g>\r\n    </g>\r\n    <g id=\"xtick_2\">\r\n     <g id=\"line2d_2\">\r\n      <g>\r\n       <use style=\"stroke:#000000;stroke-width:0.8;\" x=\"69.636429\" xlink:href=\"#m6e871d62b4\" y=\"224.64\"/>\r\n      </g>\r\n     </g>\r\n     <g id=\"text_2\">\r\n      <!-- 5 -->\r\n      <g transform=\"translate(66.455179 239.238437)scale(0.1 -0.1)\">\r\n       <defs>\r\n        <path d=\"M 10.796875 72.90625 \r\nL 49.515625 72.90625 \r\nL 49.515625 64.59375 \r\nL 19.828125 64.59375 \r\nL 19.828125 46.734375 \r\nQ 21.96875 47.46875 24.109375 47.828125 \r\nQ 26.265625 48.1875 28.421875 48.1875 \r\nQ 40.625 48.1875 47.75 41.5 \r\nQ 54.890625 34.8125 54.890625 23.390625 \r\nQ 54.890625 11.625 47.5625 5.09375 \r\nQ 40.234375 -1.421875 26.90625 -1.421875 \r\nQ 22.3125 -1.421875 17.546875 -0.640625 \r\nQ 12.796875 0.140625 7.71875 1.703125 \r\nL 7.71875 11.625 \r\nQ 12.109375 9.234375 16.796875 8.0625 \r\nQ 21.484375 6.890625 26.703125 6.890625 \r\nQ 35.15625 6.890625 40.078125 11.328125 \r\nQ 45.015625 15.765625 45.015625 23.390625 \r\nQ 45.015625 31 40.078125 35.4375 \r\nQ 35.15625 39.890625 26.703125 39.890625 \r\nQ 22.75 39.890625 18.8125 39.015625 \r\nQ 14.890625 38.140625 10.796875 36.28125 \r\nz\r\n\" id=\"DejaVuSans-53\"/>\r\n       </defs>\r\n       <use xlink:href=\"#DejaVuSans-53\"/>\r\n      </g>\r\n     </g>\r\n    </g>\r\n    <g id=\"xtick_3\">\r\n     <g id=\"line2d_3\">\r\n      <g>\r\n       <use style=\"stroke:#000000;stroke-width:0.8;\" x=\"108.465\" xlink:href=\"#m6e871d62b4\" y=\"224.64\"/>\r\n      </g>\r\n     </g>\r\n     <g id=\"text_3\">\r\n      <!-- 10 -->\r\n      <g transform=\"translate(102.1025 239.238437)scale(0.1 -0.1)\">\r\n       <defs>\r\n        <path d=\"M 12.40625 8.296875 \r\nL 28.515625 8.296875 \r\nL 28.515625 63.921875 \r\nL 10.984375 60.40625 \r\nL 10.984375 69.390625 \r\nL 28.421875 72.90625 \r\nL 38.28125 72.90625 \r\nL 38.28125 8.296875 \r\nL 54.390625 8.296875 \r\nL 54.390625 0 \r\nL 12.40625 0 \r\nz\r\n\" id=\"DejaVuSans-49\"/>\r\n       </defs>\r\n       <use xlink:href=\"#DejaVuSans-49\"/>\r\n       <use x=\"63.623047\" xlink:href=\"#DejaVuSans-48\"/>\r\n      </g>\r\n     </g>\r\n    </g>\r\n    <g id=\"xtick_4\">\r\n     <g id=\"line2d_4\">\r\n      <g>\r\n       <use style=\"stroke:#000000;stroke-width:0.8;\" x=\"147.293571\" xlink:href=\"#m6e871d62b4\" y=\"224.64\"/>\r\n      </g>\r\n     </g>\r\n     <g id=\"text_4\">\r\n      <!-- 15 -->\r\n      <g transform=\"translate(140.931071 239.238437)scale(0.1 -0.1)\">\r\n       <use xlink:href=\"#DejaVuSans-49\"/>\r\n       <use x=\"63.623047\" xlink:href=\"#DejaVuSans-53\"/>\r\n      </g>\r\n     </g>\r\n    </g>\r\n    <g id=\"xtick_5\">\r\n     <g id=\"line2d_5\">\r\n      <g>\r\n       <use style=\"stroke:#000000;stroke-width:0.8;\" x=\"186.122143\" xlink:href=\"#m6e871d62b4\" y=\"224.64\"/>\r\n      </g>\r\n     </g>\r\n     <g id=\"text_5\">\r\n      <!-- 20 -->\r\n      <g transform=\"translate(179.759643 239.238437)scale(0.1 -0.1)\">\r\n       <defs>\r\n        <path d=\"M 19.1875 8.296875 \r\nL 53.609375 8.296875 \r\nL 53.609375 0 \r\nL 7.328125 0 \r\nL 7.328125 8.296875 \r\nQ 12.9375 14.109375 22.625 23.890625 \r\nQ 32.328125 33.6875 34.8125 36.53125 \r\nQ 39.546875 41.84375 41.421875 45.53125 \r\nQ 43.3125 49.21875 43.3125 52.78125 \r\nQ 43.3125 58.59375 39.234375 62.25 \r\nQ 35.15625 65.921875 28.609375 65.921875 \r\nQ 23.96875 65.921875 18.8125 64.3125 \r\nQ 13.671875 62.703125 7.8125 59.421875 \r\nL 7.8125 69.390625 \r\nQ 13.765625 71.78125 18.9375 73 \r\nQ 24.125 74.21875 28.421875 74.21875 \r\nQ 39.75 74.21875 46.484375 68.546875 \r\nQ 53.21875 62.890625 53.21875 53.421875 \r\nQ 53.21875 48.921875 51.53125 44.890625 \r\nQ 49.859375 40.875 45.40625 35.40625 \r\nQ 44.1875 33.984375 37.640625 27.21875 \r\nQ 31.109375 20.453125 19.1875 8.296875 \r\nz\r\n\" id=\"DejaVuSans-50\"/>\r\n       </defs>\r\n       <use xlink:href=\"#DejaVuSans-50\"/>\r\n       <use x=\"63.623047\" xlink:href=\"#DejaVuSans-48\"/>\r\n      </g>\r\n     </g>\r\n    </g>\r\n    <g id=\"xtick_6\">\r\n     <g id=\"line2d_6\">\r\n      <g>\r\n       <use style=\"stroke:#000000;stroke-width:0.8;\" x=\"224.950714\" xlink:href=\"#m6e871d62b4\" y=\"224.64\"/>\r\n      </g>\r\n     </g>\r\n     <g id=\"text_6\">\r\n      <!-- 25 -->\r\n      <g transform=\"translate(218.588214 239.238437)scale(0.1 -0.1)\">\r\n       <use xlink:href=\"#DejaVuSans-50\"/>\r\n       <use x=\"63.623047\" xlink:href=\"#DejaVuSans-53\"/>\r\n      </g>\r\n     </g>\r\n    </g>\r\n   </g>\r\n   <g id=\"matplotlib.axis_2\">\r\n    <g id=\"ytick_1\">\r\n     <g id=\"line2d_7\">\r\n      <defs>\r\n       <path d=\"M 0 0 \r\nL -3.5 0 \r\n\" id=\"m39e0e0ea4e\" style=\"stroke:#000000;stroke-width:0.8;\"/>\r\n      </defs>\r\n      <g>\r\n       <use style=\"stroke:#000000;stroke-width:0.8;\" x=\"26.925\" xlink:href=\"#m39e0e0ea4e\" y=\"11.082857\"/>\r\n      </g>\r\n     </g>\r\n     <g id=\"text_7\">\r\n      <!-- 0 -->\r\n      <g transform=\"translate(13.5625 14.882076)scale(0.1 -0.1)\">\r\n       <use xlink:href=\"#DejaVuSans-48\"/>\r\n      </g>\r\n     </g>\r\n    </g>\r\n    <g id=\"ytick_2\">\r\n     <g id=\"line2d_8\">\r\n      <g>\r\n       <use style=\"stroke:#000000;stroke-width:0.8;\" x=\"26.925\" xlink:href=\"#m39e0e0ea4e\" y=\"49.911429\"/>\r\n      </g>\r\n     </g>\r\n     <g id=\"text_8\">\r\n      <!-- 5 -->\r\n      <g transform=\"translate(13.5625 53.710647)scale(0.1 -0.1)\">\r\n       <use xlink:href=\"#DejaVuSans-53\"/>\r\n      </g>\r\n     </g>\r\n    </g>\r\n    <g id=\"ytick_3\">\r\n     <g id=\"line2d_9\">\r\n      <g>\r\n       <use style=\"stroke:#000000;stroke-width:0.8;\" x=\"26.925\" xlink:href=\"#m39e0e0ea4e\" y=\"88.74\"/>\r\n      </g>\r\n     </g>\r\n     <g id=\"text_9\">\r\n      <!-- 10 -->\r\n      <g transform=\"translate(7.2 92.539219)scale(0.1 -0.1)\">\r\n       <use xlink:href=\"#DejaVuSans-49\"/>\r\n       <use x=\"63.623047\" xlink:href=\"#DejaVuSans-48\"/>\r\n      </g>\r\n     </g>\r\n    </g>\r\n    <g id=\"ytick_4\">\r\n     <g id=\"line2d_10\">\r\n      <g>\r\n       <use style=\"stroke:#000000;stroke-width:0.8;\" x=\"26.925\" xlink:href=\"#m39e0e0ea4e\" y=\"127.568571\"/>\r\n      </g>\r\n     </g>\r\n     <g id=\"text_10\">\r\n      <!-- 15 -->\r\n      <g transform=\"translate(7.2 131.36779)scale(0.1 -0.1)\">\r\n       <use xlink:href=\"#DejaVuSans-49\"/>\r\n       <use x=\"63.623047\" xlink:href=\"#DejaVuSans-53\"/>\r\n      </g>\r\n     </g>\r\n    </g>\r\n    <g id=\"ytick_5\">\r\n     <g id=\"line2d_11\">\r\n      <g>\r\n       <use style=\"stroke:#000000;stroke-width:0.8;\" x=\"26.925\" xlink:href=\"#m39e0e0ea4e\" y=\"166.397143\"/>\r\n      </g>\r\n     </g>\r\n     <g id=\"text_11\">\r\n      <!-- 20 -->\r\n      <g transform=\"translate(7.2 170.196362)scale(0.1 -0.1)\">\r\n       <use xlink:href=\"#DejaVuSans-50\"/>\r\n       <use x=\"63.623047\" xlink:href=\"#DejaVuSans-48\"/>\r\n      </g>\r\n     </g>\r\n    </g>\r\n    <g id=\"ytick_6\">\r\n     <g id=\"line2d_12\">\r\n      <g>\r\n       <use style=\"stroke:#000000;stroke-width:0.8;\" x=\"26.925\" xlink:href=\"#m39e0e0ea4e\" y=\"205.225714\"/>\r\n      </g>\r\n     </g>\r\n     <g id=\"text_12\">\r\n      <!-- 25 -->\r\n      <g transform=\"translate(7.2 209.024933)scale(0.1 -0.1)\">\r\n       <use xlink:href=\"#DejaVuSans-50\"/>\r\n       <use x=\"63.623047\" xlink:href=\"#DejaVuSans-53\"/>\r\n      </g>\r\n     </g>\r\n    </g>\r\n   </g>\r\n   <g id=\"patch_3\">\r\n    <path d=\"M 26.925 224.64 \r\nL 26.925 7.2 \r\n\" style=\"fill:none;stroke:#000000;stroke-linecap:square;stroke-linejoin:miter;stroke-width:0.8;\"/>\r\n   </g>\r\n   <g id=\"patch_4\">\r\n    <path d=\"M 244.365 224.64 \r\nL 244.365 7.2 \r\n\" style=\"fill:none;stroke:#000000;stroke-linecap:square;stroke-linejoin:miter;stroke-width:0.8;\"/>\r\n   </g>\r\n   <g id=\"patch_5\">\r\n    <path d=\"M 26.925 224.64 \r\nL 244.365 224.64 \r\n\" style=\"fill:none;stroke:#000000;stroke-linecap:square;stroke-linejoin:miter;stroke-width:0.8;\"/>\r\n   </g>\r\n   <g id=\"patch_6\">\r\n    <path d=\"M 26.925 7.2 \r\nL 244.365 7.2 \r\n\" style=\"fill:none;stroke:#000000;stroke-linecap:square;stroke-linejoin:miter;stroke-width:0.8;\"/>\r\n   </g>\r\n  </g>\r\n </g>\r\n <defs>\r\n  <clipPath id=\"pc983fdba78\">\r\n   <rect height=\"217.44\" width=\"217.44\" x=\"26.925\" y=\"7.2\"/>\r\n  </clipPath>\r\n </defs>\r\n</svg>\r\n",
      "image/png": "[encoded data removed]"
     },
     "metadata": {
      "needs_background": "light"
     }
    }
   ],
   "source": [
    "plt.imshow(x_train[0].reshape([28,28]))"
   ]
  },
  {
   "cell_type": "code",
   "execution_count": 31,
   "metadata": {},
   "outputs": [],
   "source": [
    "# now we need to normalize the pixel values\n",
    "x_train = x_train.astype('float32')/255.0\n",
    "x_test = x_test.astype('float32')/255.0"
   ]
  },
  {
   "cell_type": "code",
   "execution_count": 32,
   "metadata": {},
   "outputs": [],
   "source": [
    "# now we will initialize the CNN\n",
    "cnn = tf.keras.models.Sequential()"
   ]
  },
  {
   "cell_type": "code",
   "execution_count": 33,
   "metadata": {},
   "outputs": [],
   "source": [
    "# now we will add our first convolution layer\n",
    "cnn.add(tf.keras.layers.Conv2D(filters=32, kernel_size=(5,5), activation='relu', input_shape = in_shape))"
   ]
  },
  {
   "cell_type": "code",
   "execution_count": 34,
   "metadata": {},
   "outputs": [],
   "source": [
    "# adding our second convolutional layer\n",
    "cnn.add(tf.keras.layers.Conv2D(filters=32, kernel_size=(5,5), activation='relu', input_shape = in_shape))"
   ]
  },
  {
   "cell_type": "code",
   "execution_count": 35,
   "metadata": {},
   "outputs": [],
   "source": [
    "# now we will do max pooling, again, there are many other techiniques availaible, like min pooling, and several others.\n",
    "cnn.add(tf.keras.layers.MaxPool2D(pool_size=2, strides=2))"
   ]
  },
  {
   "cell_type": "code",
   "execution_count": null,
   "metadata": {},
   "outputs": [],
   "source": [
    "# adding yet another conolutional layer\n",
    "cnn.add(tf.keras.layers.Conv2D(filters=32, kernel_size=(3,3), activation='relu')"
   ]
  },
  {
   "cell_type": "code",
   "execution_count": 38,
   "metadata": {},
   "outputs": [],
   "source": [
    "# adding yet another concolutional layer\n",
    "cnn.add(tf.keras.layers.Conv2D(filters=32, kernel_size=(3,3), activation='relu'))"
   ]
  },
  {
   "cell_type": "code",
   "execution_count": 39,
   "metadata": {},
   "outputs": [],
   "source": [
    "# now, again we do max pooling \n",
    "cnn.add(tf.keras.layers.MaxPool2D(pool_size=2, strides=2))"
   ]
  },
  {
   "cell_type": "code",
   "execution_count": 40,
   "metadata": {},
   "outputs": [],
   "source": [
    "# flatenning the layer to feed it into our artificial neural network\n",
    "cnn.add(tf.keras.layers.Flatten())"
   ]
  },
  {
   "cell_type": "code",
   "execution_count": 41,
   "metadata": {},
   "outputs": [],
   "source": [
    "# doing full connection now\n",
    "cnn.add(tf.keras.layers.Dense(units = 256, activation = 'relu'))"
   ]
  },
  {
   "cell_type": "code",
   "execution_count": 42,
   "metadata": {},
   "outputs": [],
   "source": [
    "# our final output layer\n",
    "cnn.add(tf.keras.layers.Dense(units = 10, activation = 'softmax'))"
   ]
  },
  {
   "cell_type": "code",
   "execution_count": 45,
   "metadata": {},
   "outputs": [],
   "source": [
    "# defining our optimizer\n",
    "optimizer = RMSprop(lr=0.001, rho=0.9, epsilon=1e-08, decay=0.0)"
   ]
  },
  {
   "cell_type": "code",
   "execution_count": 46,
   "metadata": {},
   "outputs": [],
   "source": [
    "# compilig our CNN model\n",
    "cnn.compile(optimizer='adam', loss = 'sparse_categorical_crossentropy', metrics = ['accuracy'])"
   ]
  },
  {
   "cell_type": "code",
   "execution_count": 47,
   "metadata": {},
   "outputs": [
    {
     "output_type": "stream",
     "name": "stdout",
     "text": [
      "Epoch 1/100\n",
      "210/210 [==============================] - 75s 357ms/step - loss: 0.9596 - accuracy: 0.6933 - val_loss: 0.3422 - val_accuracy: 0.9048\n",
      "Epoch 2/100\n",
      "210/210 [==============================] - 72s 342ms/step - loss: 0.2657 - accuracy: 0.9177 - val_loss: 0.2071 - val_accuracy: 0.9423\n",
      "Epoch 3/100\n",
      "210/210 [==============================] - 76s 364ms/step - loss: 0.1705 - accuracy: 0.9472 - val_loss: 0.1519 - val_accuracy: 0.9555\n",
      "Epoch 4/100\n",
      "210/210 [==============================] - 72s 342ms/step - loss: 0.1256 - accuracy: 0.9593 - val_loss: 0.1323 - val_accuracy: 0.9621\n",
      "Epoch 5/100\n",
      "210/210 [==============================] - 70s 336ms/step - loss: 0.1039 - accuracy: 0.9671 - val_loss: 0.1235 - val_accuracy: 0.9634\n",
      "Epoch 6/100\n",
      "210/210 [==============================] - 74s 352ms/step - loss: 0.0862 - accuracy: 0.9725 - val_loss: 0.1000 - val_accuracy: 0.9689\n",
      "Epoch 7/100\n",
      "210/210 [==============================] - 80s 380ms/step - loss: 0.0780 - accuracy: 0.9747 - val_loss: 0.0931 - val_accuracy: 0.9729\n",
      "Epoch 8/100\n",
      "210/210 [==============================] - 68s 324ms/step - loss: 0.0681 - accuracy: 0.9773 - val_loss: 0.0961 - val_accuracy: 0.9710\n",
      "Epoch 9/100\n",
      "210/210 [==============================] - 70s 334ms/step - loss: 0.0601 - accuracy: 0.9807 - val_loss: 0.0843 - val_accuracy: 0.9750\n",
      "Epoch 10/100\n",
      "210/210 [==============================] - 71s 336ms/step - loss: 0.0513 - accuracy: 0.9835 - val_loss: 0.0680 - val_accuracy: 0.9792\n",
      "Epoch 11/100\n",
      "210/210 [==============================] - 67s 317ms/step - loss: 0.0472 - accuracy: 0.9855 - val_loss: 0.0794 - val_accuracy: 0.9775\n",
      "Epoch 12/100\n",
      "210/210 [==============================] - 71s 338ms/step - loss: 0.0433 - accuracy: 0.9861 - val_loss: 0.0728 - val_accuracy: 0.9799\n",
      "Epoch 13/100\n",
      "210/210 [==============================] - 65s 311ms/step - loss: 0.0411 - accuracy: 0.9870 - val_loss: 0.0677 - val_accuracy: 0.9795\n",
      "Epoch 14/100\n",
      "210/210 [==============================] - 67s 321ms/step - loss: 0.0333 - accuracy: 0.9889 - val_loss: 0.0649 - val_accuracy: 0.9817\n",
      "Epoch 15/100\n",
      "210/210 [==============================] - 68s 326ms/step - loss: 0.0311 - accuracy: 0.9889 - val_loss: 0.0685 - val_accuracy: 0.9792\n",
      "Epoch 16/100\n",
      "210/210 [==============================] - 71s 339ms/step - loss: 0.0265 - accuracy: 0.9912 - val_loss: 0.0752 - val_accuracy: 0.9792\n",
      "Epoch 17/100\n",
      "210/210 [==============================] - 64s 303ms/step - loss: 0.0236 - accuracy: 0.9924 - val_loss: 0.0662 - val_accuracy: 0.9815\n",
      "Epoch 18/100\n",
      "210/210 [==============================] - 54s 256ms/step - loss: 0.0216 - accuracy: 0.9927 - val_loss: 0.0850 - val_accuracy: 0.9778\n",
      "Epoch 19/100\n",
      "210/210 [==============================] - 55s 262ms/step - loss: 0.0198 - accuracy: 0.9933 - val_loss: 0.0732 - val_accuracy: 0.9805\n",
      "Epoch 20/100\n",
      "210/210 [==============================] - 59s 282ms/step - loss: 0.0159 - accuracy: 0.9944 - val_loss: 0.0690 - val_accuracy: 0.9820\n",
      "Epoch 21/100\n",
      "210/210 [==============================] - 55s 261ms/step - loss: 0.0167 - accuracy: 0.9943 - val_loss: 0.0769 - val_accuracy: 0.9781\n",
      "Epoch 22/100\n",
      "210/210 [==============================] - 54s 256ms/step - loss: 0.0137 - accuracy: 0.9952 - val_loss: 0.0834 - val_accuracy: 0.9815\n",
      "Epoch 23/100\n",
      "210/210 [==============================] - 55s 261ms/step - loss: 0.0147 - accuracy: 0.9948 - val_loss: 0.0860 - val_accuracy: 0.9783\n",
      "Epoch 24/100\n",
      "210/210 [==============================] - 53s 254ms/step - loss: 0.0114 - accuracy: 0.9961 - val_loss: 0.0759 - val_accuracy: 0.9820\n",
      "Epoch 25/100\n",
      "210/210 [==============================] - 57s 273ms/step - loss: 0.0090 - accuracy: 0.9970 - val_loss: 0.0856 - val_accuracy: 0.9832\n",
      "Epoch 26/100\n",
      "210/210 [==============================] - 57s 271ms/step - loss: 0.0103 - accuracy: 0.9963 - val_loss: 0.0802 - val_accuracy: 0.9817\n",
      "Epoch 27/100\n",
      "210/210 [==============================] - 60s 285ms/step - loss: 0.0130 - accuracy: 0.9956 - val_loss: 0.0787 - val_accuracy: 0.9833\n",
      "Epoch 28/100\n",
      "210/210 [==============================] - 58s 276ms/step - loss: 0.0114 - accuracy: 0.9961 - val_loss: 0.0823 - val_accuracy: 0.9811\n",
      "Epoch 29/100\n",
      "210/210 [==============================] - 54s 255ms/step - loss: 0.0108 - accuracy: 0.9961 - val_loss: 0.0961 - val_accuracy: 0.9812\n",
      "Epoch 30/100\n",
      "210/210 [==============================] - 52s 248ms/step - loss: 0.0065 - accuracy: 0.9975 - val_loss: 0.0830 - val_accuracy: 0.9833\n",
      "Epoch 31/100\n",
      "210/210 [==============================] - 48s 228ms/step - loss: 0.0081 - accuracy: 0.9970 - val_loss: 0.1196 - val_accuracy: 0.9768\n",
      "Epoch 32/100\n",
      "210/210 [==============================] - 49s 231ms/step - loss: 0.0107 - accuracy: 0.9960 - val_loss: 0.0857 - val_accuracy: 0.9836\n",
      "Epoch 33/100\n",
      "210/210 [==============================] - 48s 227ms/step - loss: 0.0042 - accuracy: 0.9988 - val_loss: 0.0941 - val_accuracy: 0.9821\n",
      "Epoch 34/100\n",
      "210/210 [==============================] - 49s 231ms/step - loss: 0.0071 - accuracy: 0.9977 - val_loss: 0.0950 - val_accuracy: 0.9820\n",
      "Epoch 35/100\n",
      "210/210 [==============================] - 64s 303ms/step - loss: 0.0067 - accuracy: 0.9975 - val_loss: 0.0867 - val_accuracy: 0.9832\n",
      "Epoch 36/100\n",
      "210/210 [==============================] - 80s 380ms/step - loss: 0.0053 - accuracy: 0.9983 - val_loss: 0.1050 - val_accuracy: 0.9814\n",
      "Epoch 37/100\n",
      "210/210 [==============================] - 80s 383ms/step - loss: 0.0100 - accuracy: 0.9963 - val_loss: 0.1017 - val_accuracy: 0.9817\n",
      "Epoch 38/100\n",
      "210/210 [==============================] - 80s 380ms/step - loss: 0.0045 - accuracy: 0.9985 - val_loss: 0.0971 - val_accuracy: 0.9826\n",
      "Epoch 39/100\n",
      "210/210 [==============================] - 79s 376ms/step - loss: 0.0036 - accuracy: 0.9988 - val_loss: 0.1047 - val_accuracy: 0.9823\n",
      "Epoch 40/100\n",
      "210/210 [==============================] - 80s 380ms/step - loss: 0.0063 - accuracy: 0.9982 - val_loss: 0.1100 - val_accuracy: 0.9808\n",
      "Epoch 41/100\n",
      "210/210 [==============================] - 79s 378ms/step - loss: 0.0070 - accuracy: 0.9972 - val_loss: 0.1059 - val_accuracy: 0.9787\n",
      "Epoch 42/100\n",
      "210/210 [==============================] - 80s 381ms/step - loss: 0.0043 - accuracy: 0.9983 - val_loss: 0.1019 - val_accuracy: 0.9807\n",
      "Epoch 43/100\n",
      "210/210 [==============================] - 79s 378ms/step - loss: 0.0075 - accuracy: 0.9977 - val_loss: 0.1033 - val_accuracy: 0.9820\n",
      "Epoch 44/100\n",
      "210/210 [==============================] - 80s 379ms/step - loss: 0.0036 - accuracy: 0.9987 - val_loss: 0.0964 - val_accuracy: 0.9850\n",
      "Epoch 45/100\n",
      "210/210 [==============================] - 61s 289ms/step - loss: 0.0025 - accuracy: 0.9992 - val_loss: 0.0938 - val_accuracy: 0.9847\n",
      "Epoch 46/100\n",
      "210/210 [==============================] - 67s 321ms/step - loss: 0.0044 - accuracy: 0.9981 - val_loss: 0.0953 - val_accuracy: 0.9842\n",
      "Epoch 47/100\n",
      "210/210 [==============================] - 59s 281ms/step - loss: 0.0028 - accuracy: 0.9991 - val_loss: 0.0871 - val_accuracy: 0.9848\n",
      "Epoch 48/100\n",
      "210/210 [==============================] - 55s 262ms/step - loss: 0.0022 - accuracy: 0.9994 - val_loss: 0.0939 - val_accuracy: 0.9859\n",
      "Epoch 49/100\n",
      "210/210 [==============================] - 56s 265ms/step - loss: 0.0059 - accuracy: 0.9978 - val_loss: 0.1069 - val_accuracy: 0.9801\n",
      "Epoch 50/100\n",
      "210/210 [==============================] - 56s 269ms/step - loss: 0.0024 - accuracy: 0.9991 - val_loss: 0.0990 - val_accuracy: 0.9844\n",
      "Epoch 51/100\n",
      "210/210 [==============================] - 55s 262ms/step - loss: 0.0062 - accuracy: 0.9977 - val_loss: 0.0919 - val_accuracy: 0.9824\n",
      "Epoch 52/100\n",
      "210/210 [==============================] - 63s 300ms/step - loss: 0.0043 - accuracy: 0.9988 - val_loss: 0.0862 - val_accuracy: 0.9845\n",
      "Epoch 53/100\n",
      "210/210 [==============================] - 66s 313ms/step - loss: 0.0029 - accuracy: 0.9989 - val_loss: 0.1333 - val_accuracy: 0.9784\n",
      "Epoch 54/100\n",
      "210/210 [==============================] - 55s 262ms/step - loss: 0.0039 - accuracy: 0.9989 - val_loss: 0.1176 - val_accuracy: 0.9826\n",
      "Epoch 55/100\n",
      "210/210 [==============================] - 56s 266ms/step - loss: 0.0031 - accuracy: 0.9990 - val_loss: 0.1180 - val_accuracy: 0.9808\n",
      "Epoch 56/100\n",
      "210/210 [==============================] - 55s 261ms/step - loss: 0.0058 - accuracy: 0.9981 - val_loss: 0.1117 - val_accuracy: 0.9826\n",
      "Epoch 57/100\n",
      "210/210 [==============================] - 56s 268ms/step - loss: 0.0075 - accuracy: 0.9977 - val_loss: 0.0953 - val_accuracy: 0.9853\n",
      "Epoch 58/100\n",
      "210/210 [==============================] - 57s 271ms/step - loss: 8.3663e-04 - accuracy: 0.9999 - val_loss: 0.1021 - val_accuracy: 0.9850\n",
      "Epoch 59/100\n",
      "210/210 [==============================] - 55s 264ms/step - loss: 2.5029e-04 - accuracy: 1.0000 - val_loss: 0.1020 - val_accuracy: 0.9856\n",
      "Epoch 60/100\n",
      "210/210 [==============================] - 55s 260ms/step - loss: 7.4588e-05 - accuracy: 1.0000 - val_loss: 0.1046 - val_accuracy: 0.9854\n",
      "Epoch 61/100\n",
      "210/210 [==============================] - 55s 261ms/step - loss: 5.0631e-05 - accuracy: 1.0000 - val_loss: 0.1045 - val_accuracy: 0.9859\n",
      "Epoch 62/100\n",
      "210/210 [==============================] - 55s 262ms/step - loss: 3.4325e-05 - accuracy: 1.0000 - val_loss: 0.1065 - val_accuracy: 0.9859\n",
      "Epoch 63/100\n",
      "210/210 [==============================] - 54s 259ms/step - loss: 2.8388e-05 - accuracy: 1.0000 - val_loss: 0.1081 - val_accuracy: 0.9853\n",
      "Epoch 64/100\n",
      "210/210 [==============================] - 54s 257ms/step - loss: 2.3556e-05 - accuracy: 1.0000 - val_loss: 0.1092 - val_accuracy: 0.9854\n",
      "Epoch 65/100\n",
      "210/210 [==============================] - 55s 261ms/step - loss: 2.1356e-05 - accuracy: 1.0000 - val_loss: 0.1109 - val_accuracy: 0.9850\n",
      "Epoch 66/100\n",
      "210/210 [==============================] - 56s 265ms/step - loss: 1.8162e-05 - accuracy: 1.0000 - val_loss: 0.1122 - val_accuracy: 0.9850\n",
      "Epoch 67/100\n",
      "210/210 [==============================] - 55s 263ms/step - loss: 1.5519e-05 - accuracy: 1.0000 - val_loss: 0.1130 - val_accuracy: 0.9851\n",
      "Epoch 68/100\n",
      "210/210 [==============================] - 55s 261ms/step - loss: 1.3880e-05 - accuracy: 1.0000 - val_loss: 0.1144 - val_accuracy: 0.9850\n",
      "Epoch 69/100\n",
      "210/210 [==============================] - 54s 257ms/step - loss: 1.2360e-05 - accuracy: 1.0000 - val_loss: 0.1155 - val_accuracy: 0.9853\n",
      "Epoch 70/100\n",
      "210/210 [==============================] - 55s 262ms/step - loss: 1.0870e-05 - accuracy: 1.0000 - val_loss: 0.1168 - val_accuracy: 0.9854\n",
      "Epoch 71/100\n",
      "210/210 [==============================] - 54s 258ms/step - loss: 9.7375e-06 - accuracy: 1.0000 - val_loss: 0.1179 - val_accuracy: 0.9854\n",
      "Epoch 72/100\n",
      "210/210 [==============================] - 55s 264ms/step - loss: 8.6828e-06 - accuracy: 1.0000 - val_loss: 0.1188 - val_accuracy: 0.9854\n",
      "Epoch 73/100\n",
      "210/210 [==============================] - 55s 261ms/step - loss: 7.7682e-06 - accuracy: 1.0000 - val_loss: 0.1197 - val_accuracy: 0.9853\n",
      "Epoch 74/100\n",
      "210/210 [==============================] - 54s 259ms/step - loss: 7.0560e-06 - accuracy: 1.0000 - val_loss: 0.1213 - val_accuracy: 0.9856\n",
      "Epoch 75/100\n",
      "210/210 [==============================] - 54s 257ms/step - loss: 6.1934e-06 - accuracy: 1.0000 - val_loss: 0.1228 - val_accuracy: 0.9854\n",
      "Epoch 76/100\n",
      "210/210 [==============================] - 55s 261ms/step - loss: 5.5186e-06 - accuracy: 1.0000 - val_loss: 0.1237 - val_accuracy: 0.9856\n",
      "Epoch 77/100\n",
      "210/210 [==============================] - 55s 263ms/step - loss: 5.1193e-06 - accuracy: 1.0000 - val_loss: 0.1249 - val_accuracy: 0.9856\n",
      "Epoch 78/100\n",
      "210/210 [==============================] - 55s 263ms/step - loss: 4.4785e-06 - accuracy: 1.0000 - val_loss: 0.1259 - val_accuracy: 0.9853\n",
      "Epoch 79/100\n",
      "210/210 [==============================] - 54s 258ms/step - loss: 4.0818e-06 - accuracy: 1.0000 - val_loss: 0.1272 - val_accuracy: 0.9854\n",
      "Epoch 80/100\n",
      "210/210 [==============================] - 54s 257ms/step - loss: 3.6753e-06 - accuracy: 1.0000 - val_loss: 0.1285 - val_accuracy: 0.9856\n",
      "Epoch 81/100\n",
      "210/210 [==============================] - 55s 262ms/step - loss: 3.2572e-06 - accuracy: 1.0000 - val_loss: 0.1289 - val_accuracy: 0.9853\n",
      "Epoch 82/100\n",
      "210/210 [==============================] - 57s 273ms/step - loss: 2.9176e-06 - accuracy: 1.0000 - val_loss: 0.1306 - val_accuracy: 0.9856\n",
      "Epoch 83/100\n",
      "210/210 [==============================] - 58s 275ms/step - loss: 2.6783e-06 - accuracy: 1.0000 - val_loss: 0.1315 - val_accuracy: 0.9853\n",
      "Epoch 84/100\n",
      "210/210 [==============================] - 58s 274ms/step - loss: 2.4439e-06 - accuracy: 1.0000 - val_loss: 0.1324 - val_accuracy: 0.9854\n",
      "Epoch 85/100\n",
      "210/210 [==============================] - 57s 272ms/step - loss: 2.1613e-06 - accuracy: 1.0000 - val_loss: 0.1345 - val_accuracy: 0.9856\n",
      "Epoch 86/100\n",
      "210/210 [==============================] - 58s 274ms/step - loss: 1.8912e-06 - accuracy: 1.0000 - val_loss: 0.1354 - val_accuracy: 0.9854\n",
      "Epoch 87/100\n",
      "210/210 [==============================] - 65s 309ms/step - loss: 1.6957e-06 - accuracy: 1.0000 - val_loss: 0.1364 - val_accuracy: 0.9853\n",
      "Epoch 88/100\n",
      "210/210 [==============================] - 84s 401ms/step - loss: 1.5395e-06 - accuracy: 1.0000 - val_loss: 0.1386 - val_accuracy: 0.9851\n",
      "Epoch 89/100\n",
      "210/210 [==============================] - 86s 411ms/step - loss: 1.4159e-06 - accuracy: 1.0000 - val_loss: 0.1390 - val_accuracy: 0.9851\n",
      "Epoch 90/100\n",
      "210/210 [==============================] - 99s 469ms/step - loss: 1.2503e-06 - accuracy: 1.0000 - val_loss: 0.1398 - val_accuracy: 0.9851\n",
      "Epoch 91/100\n",
      "210/210 [==============================] - 95s 452ms/step - loss: 1.1144e-06 - accuracy: 1.0000 - val_loss: 0.1414 - val_accuracy: 0.9850\n",
      "Epoch 92/100\n",
      "210/210 [==============================] - 84s 399ms/step - loss: 9.9488e-07 - accuracy: 1.0000 - val_loss: 0.1431 - val_accuracy: 0.9848\n",
      "Epoch 93/100\n",
      "210/210 [==============================] - 70s 333ms/step - loss: 8.6697e-07 - accuracy: 1.0000 - val_loss: 0.1440 - val_accuracy: 0.9848\n",
      "Epoch 94/100\n",
      "210/210 [==============================] - 57s 272ms/step - loss: 8.1957e-07 - accuracy: 1.0000 - val_loss: 0.1457 - val_accuracy: 0.9851\n",
      "Epoch 95/100\n",
      "210/210 [==============================] - 58s 276ms/step - loss: 6.7931e-07 - accuracy: 1.0000 - val_loss: 0.1475 - val_accuracy: 0.9848\n",
      "Epoch 96/100\n",
      "210/210 [==============================] - 57s 273ms/step - loss: 7.4863e-07 - accuracy: 1.0000 - val_loss: 0.1479 - val_accuracy: 0.9850\n",
      "Epoch 97/100\n",
      "210/210 [==============================] - 57s 273ms/step - loss: 5.9992e-07 - accuracy: 1.0000 - val_loss: 0.1500 - val_accuracy: 0.9850\n",
      "Epoch 98/100\n",
      "210/210 [==============================] - 57s 272ms/step - loss: 5.0400e-07 - accuracy: 1.0000 - val_loss: 0.1507 - val_accuracy: 0.9848\n",
      "Epoch 99/100\n",
      "210/210 [==============================] - 58s 277ms/step - loss: 4.6735e-07 - accuracy: 1.0000 - val_loss: 0.1515 - val_accuracy: 0.9850\n",
      "Epoch 100/100\n",
      "210/210 [==============================] - 58s 276ms/step - loss: 4.1207e-07 - accuracy: 1.0000 - val_loss: 0.1535 - val_accuracy: 0.9853\n"
     ]
    },
    {
     "output_type": "execute_result",
     "data": {
      "text/plain": [
       "<tensorflow.python.keras.callbacks.History at 0x1cd81638648>"
      ]
     },
     "metadata": {},
     "execution_count": 47
    }
   ],
   "source": [
    "# now training our model\n",
    "cnn.fit(x_train, y_train, validation_split=0.2, epochs= 100, batch_size=128, verbose=1)"
   ]
  },
  {
   "cell_type": "code",
   "execution_count": 62,
   "metadata": {},
   "outputs": [
    {
     "output_type": "execute_result",
     "data": {
      "text/plain": [
       "array([[0., 0., 0., 0., 0., 0., 0., 0., 0., 1.]], dtype=float32)"
      ]
     },
     "metadata": {},
     "execution_count": 62
    }
   ],
   "source": [
    "# making a single prediction\n",
    "image = x_test[2]\n",
    "y_pred = cnn.predict(np.asarray([image]))\n",
    "y_pred"
   ]
  },
  {
   "cell_type": "code",
   "execution_count": 63,
   "metadata": {},
   "outputs": [
    {
     "output_type": "execute_result",
     "data": {
      "text/plain": [
       "<matplotlib.image.AxesImage at 0x1cd8129c1c8>"
      ]
     },
     "metadata": {},
     "execution_count": 63
    },
    {
     "output_type": "display_data",
     "data": {
      "text/plain": "<Figure size 432x288 with 1 Axes>",
      "image/svg+xml": "<?xml version=\"1.0\" encoding=\"utf-8\" standalone=\"no\"?>\r\n<!DOCTYPE svg PUBLIC \"-//W3C//DTD SVG 1.1//EN\"\r\n  \"http://www.w3.org/Graphics/SVG/1.1/DTD/svg11.dtd\">\r\n<!-- Created with matplotlib (https://matplotlib.org/) -->\r\n<svg height=\"248.518125pt\" version=\"1.1\" viewBox=\"0 0 251.565 248.518125\" width=\"251.565pt\" xmlns=\"http://www.w3.org/2000/svg\" xmlns:xlink=\"http://www.w3.org/1999/xlink\">\r\n <metadata>\r\n  <rdf:RDF xmlns:cc=\"http://creativecommons.org/ns#\" xmlns:dc=\"http://purl.org/dc/elements/1.1/\" xmlns:rdf=\"http://www.w3.org/1999/02/22-rdf-syntax-ns#\">\r\n   <cc:Work>\r\n    <dc:type rdf:resource=\"http://purl.org/dc/dcmitype/StillImage\"/>\r\n    <dc:date>2021-05-24T14:10:25.611172</dc:date>\r\n    <dc:format>image/svg+xml</dc:format>\r\n    <dc:creator>\r\n     <cc:Agent>\r\n      <dc:title>Matplotlib v3.3.4, https://matplotlib.org/</dc:title>\r\n     </cc:Agent>\r\n    </dc:creator>\r\n   </cc:Work>\r\n  </rdf:RDF>\r\n </metadata>\r\n <defs>\r\n  <style type=\"text/css\">*{stroke-linecap:butt;stroke-linejoin:round;}</style>\r\n </defs>\r\n <g id=\"figure_1\">\r\n  <g id=\"patch_1\">\r\n   <path d=\"M 0 248.518125 \r\nL 251.565 248.518125 \r\nL 251.565 0 \r\nL 0 0 \r\nz\r\n\" style=\"fill:none;\"/>\r\n  </g>\r\n  <g id=\"axes_1\">\r\n   <g id=\"patch_2\">\r\n    <path d=\"M 26.925 224.64 \r\nL 244.365 224.64 \r\nL 244.365 7.2 \r\nL 26.925 7.2 \r\nz\r\n\" style=\"fill:#ffffff;\"/>\r\n   </g>\r\n   <g clip-path=\"url(#pef78136df8)\">\r\n    <image height=\"218\" id=\"image427a7c5bb9\" transform=\"scale(1 -1)translate(0 -218)\" width=\"218\" x=\"26.925\" xlink:href=\"data:image/png;base64,\r\niVBORw0KGgoAAAANSUhEUgAAANoAAADaCAYAAADAHVzbAAAGKElEQVR4nO3d76vW9R3H8euco8fUxcYhSHMoam4MxbXosBQqUG/kCuqGsi3aSTYW2zy0jZC2oAPrzsIWhPYD3Y1gUlTkjSAitzlXjbZlzTEFpf3QM9M1XZTI3Dzn6Nk/0Pd92HU8r5Oex+Pui+91XQjP8wG/XNe3Y03HutEWMKE6J/sDwFQgNAgQGgQIDQKEBgFCgwChQcC0yf4Al6oTG1c2bi/ft7m89qanN5X7wh/+tq3PxORxokGA0CBAaBAgNAgQGgQIDQKEBgHuo02QoVWnGreerhnltfv7tpT7za9+p9y7X9lb7uQ50SBAaBAgNAgQGgQIDQKEBgH+e3+CnN//yebx+vG99uCt9d/HJa+M7/W58JxoECA0CBAaBAgNAoQGAUKDAKFBgPtoE2TBj99u3Hqv6Suv3dv7s3K/cvG/yr1jene5jw4PlTsXnhMNAoQGAUKDAKFBgNAgQGgQIDQIcB9tgoyePdu4zX1oen3xznp+bfnz5b70R/3lvvB+j31Kc6JBgNAgQGgQIDQIEBoECA0ChAYB7qNNgq5Dg+W+5z+fKPfVM8+U++b1O8r9p4/f2LiNHDteXkt7nGgQIDQIEBoECA0ChAYBQoMAoUGA+2iT4NyHp8r9e898vdz3f+Oxcl8764Ny3z5zRrlz4TnRIEBoECA0CBAaBAgNAoQGAf57/2NowUD9c3CH7/pvff20+rFNh++Y27jNf/BweS3tcaJBgNAgQGgQIDQIEBoECA0ChAYBHWs61o1O9ofg//O3h1aU+4GvbSn3Jz9c0rj94pbl5bUjR/5e7nw0JxoECA0ChAYBQoMAoUGA0CBAaBDg+2iXoM4x/n5u/NRfG7dtfV8qr53/oPto7XCiQYDQIEBoECA0CBAaBAgNAoQGAe6jXYQW/WCM3338avu/+9iz8r22PhM1JxoECA0ChAYBQoMAoUGA0CDAz801+GBD/ZNu/76qo+3X7hyu96sefqPt1261Wq3TX76+3Hds/knj1tNZ/+1d39df7l17/lDuU5UTDQKEBgFCgwChQYDQIEBoECA0CJiyX5M5+sDKct/9zc3l3tM1o+33Hh49V+6/urun3Ae2bij3nkND5X5o+IrGbc3M0+W157vq+4dd5Tp1OdEgQGgQIDQIEBoECA0ChAYBQoOAKXsfbXR5fb9oPPfJWq1Wa+BEb+P21vvzy2tf/tzOcl9739Zy/9NQfZ9u0bSRYp1eXvt+/5lyn/PLcp6ynGgQIDQIEBoECA0ChAYBQoMAoUHAlL2PNu+J+n7Rgevqn7tc1l1/L2vXU83fd5vzxJvltWtXfbvcj9x5vtwPrt5W7mPdK6vcvOBguR+Yc2W5j7z3z7bf+2LmRIMAoUGA0CBAaBAgNAgQGgQIDQI8H63B0ReWlfu+FU+V+z3Hbmzc3l3f/LuKrVarNTJ4tNy7ln623N/ZUP8u5O++0vx8tMs7u8trx7L6nvr5abN3/n5cr3+xcqJBgNAgQGgQIDQIEBoECA0CpuzXZMYy79H6n+a5ZXPLfcu81xq3TTvrR0a986361sK5tw6U++JN5dzqnf39xu3QbY/XF9MWJxoECA0ChAYBQoMAoUGA0CBAaBDgPlqDzt/8sdyfveEL5f76S81fZXns07+u3/zFN8q595Hvlnv3qfqbT6uu3V+//zj84/ahcr+6fiLVJcuJBgFCgwChQYDQIEBoECA0CBAaBLiP1qZzJ0+W+77tKxq3wYGfl9cumFb/5Nvb924t9/Ot+rFOleMjZ8t9uFU/rqrr3cvafu9LmRMNAoQGAUKDAKFBgNAgQGgQIDQI8NimSdA5a1a5/2Xg8+X+574ny73/2BfLfdfuaxu3z2wdLK8dOXa83PloTjQIEBoECA0ChAYBQoMAoUGA0CDAfTQIcKJBgNAgQGgQIDQIEBoECA0ChAYBQoMAoUGA0CBAaBAgNAgQGgQIDQKEBgFCgwChQYDQIEBoECA0CBAaBAgNAoQGAUKDAKFBgNAgQGgQIDQIEBoECA0ChAYBQoMAoUGA0CBAaBAgNAgQGgQIDQKEBgFCgwChQYDQIEBoECA0CBAaBAgNAoQGAUKDAKFBgNAgQGgQIDQIEBoE/A+pqNUK7yBatAAAAABJRU5ErkJggg==\" y=\"-6.64\"/>\r\n   </g>\r\n   <g id=\"matplotlib.axis_1\">\r\n    <g id=\"xtick_1\">\r\n     <g id=\"line2d_1\">\r\n      <defs>\r\n       <path d=\"M 0 0 \r\nL 0 3.5 \r\n\" id=\"mf270bbc336\" style=\"stroke:#000000;stroke-width:0.8;\"/>\r\n      </defs>\r\n      <g>\r\n       <use style=\"stroke:#000000;stroke-width:0.8;\" x=\"30.807857\" xlink:href=\"#mf270bbc336\" y=\"224.64\"/>\r\n      </g>\r\n     </g>\r\n     <g id=\"text_1\">\r\n      <!-- 0 -->\r\n      <g transform=\"translate(27.626607 239.238437)scale(0.1 -0.1)\">\r\n       <defs>\r\n        <path d=\"M 31.78125 66.40625 \r\nQ 24.171875 66.40625 20.328125 58.90625 \r\nQ 16.5 51.421875 16.5 36.375 \r\nQ 16.5 21.390625 20.328125 13.890625 \r\nQ 24.171875 6.390625 31.78125 6.390625 \r\nQ 39.453125 6.390625 43.28125 13.890625 \r\nQ 47.125 21.390625 47.125 36.375 \r\nQ 47.125 51.421875 43.28125 58.90625 \r\nQ 39.453125 66.40625 31.78125 66.40625 \r\nz\r\nM 31.78125 74.21875 \r\nQ 44.046875 74.21875 50.515625 64.515625 \r\nQ 56.984375 54.828125 56.984375 36.375 \r\nQ 56.984375 17.96875 50.515625 8.265625 \r\nQ 44.046875 -1.421875 31.78125 -1.421875 \r\nQ 19.53125 -1.421875 13.0625 8.265625 \r\nQ 6.59375 17.96875 6.59375 36.375 \r\nQ 6.59375 54.828125 13.0625 64.515625 \r\nQ 19.53125 74.21875 31.78125 74.21875 \r\nz\r\n\" id=\"DejaVuSans-48\"/>\r\n       </defs>\r\n       <use xlink:href=\"#DejaVuSans-48\"/>\r\n      </g>\r\n     </g>\r\n    </g>\r\n    <g id=\"xtick_2\">\r\n     <g id=\"line2d_2\">\r\n      <g>\r\n       <use style=\"stroke:#000000;stroke-width:0.8;\" x=\"69.636429\" xlink:href=\"#mf270bbc336\" y=\"224.64\"/>\r\n      </g>\r\n     </g>\r\n     <g id=\"text_2\">\r\n      <!-- 5 -->\r\n      <g transform=\"translate(66.455179 239.238437)scale(0.1 -0.1)\">\r\n       <defs>\r\n        <path d=\"M 10.796875 72.90625 \r\nL 49.515625 72.90625 \r\nL 49.515625 64.59375 \r\nL 19.828125 64.59375 \r\nL 19.828125 46.734375 \r\nQ 21.96875 47.46875 24.109375 47.828125 \r\nQ 26.265625 48.1875 28.421875 48.1875 \r\nQ 40.625 48.1875 47.75 41.5 \r\nQ 54.890625 34.8125 54.890625 23.390625 \r\nQ 54.890625 11.625 47.5625 5.09375 \r\nQ 40.234375 -1.421875 26.90625 -1.421875 \r\nQ 22.3125 -1.421875 17.546875 -0.640625 \r\nQ 12.796875 0.140625 7.71875 1.703125 \r\nL 7.71875 11.625 \r\nQ 12.109375 9.234375 16.796875 8.0625 \r\nQ 21.484375 6.890625 26.703125 6.890625 \r\nQ 35.15625 6.890625 40.078125 11.328125 \r\nQ 45.015625 15.765625 45.015625 23.390625 \r\nQ 45.015625 31 40.078125 35.4375 \r\nQ 35.15625 39.890625 26.703125 39.890625 \r\nQ 22.75 39.890625 18.8125 39.015625 \r\nQ 14.890625 38.140625 10.796875 36.28125 \r\nz\r\n\" id=\"DejaVuSans-53\"/>\r\n       </defs>\r\n       <use xlink:href=\"#DejaVuSans-53\"/>\r\n      </g>\r\n     </g>\r\n    </g>\r\n    <g id=\"xtick_3\">\r\n     <g id=\"line2d_3\">\r\n      <g>\r\n       <use style=\"stroke:#000000;stroke-width:0.8;\" x=\"108.465\" xlink:href=\"#mf270bbc336\" y=\"224.64\"/>\r\n      </g>\r\n     </g>\r\n     <g id=\"text_3\">\r\n      <!-- 10 -->\r\n      <g transform=\"translate(102.1025 239.238437)scale(0.1 -0.1)\">\r\n       <defs>\r\n        <path d=\"M 12.40625 8.296875 \r\nL 28.515625 8.296875 \r\nL 28.515625 63.921875 \r\nL 10.984375 60.40625 \r\nL 10.984375 69.390625 \r\nL 28.421875 72.90625 \r\nL 38.28125 72.90625 \r\nL 38.28125 8.296875 \r\nL 54.390625 8.296875 \r\nL 54.390625 0 \r\nL 12.40625 0 \r\nz\r\n\" id=\"DejaVuSans-49\"/>\r\n       </defs>\r\n       <use xlink:href=\"#DejaVuSans-49\"/>\r\n       <use x=\"63.623047\" xlink:href=\"#DejaVuSans-48\"/>\r\n      </g>\r\n     </g>\r\n    </g>\r\n    <g id=\"xtick_4\">\r\n     <g id=\"line2d_4\">\r\n      <g>\r\n       <use style=\"stroke:#000000;stroke-width:0.8;\" x=\"147.293571\" xlink:href=\"#mf270bbc336\" y=\"224.64\"/>\r\n      </g>\r\n     </g>\r\n     <g id=\"text_4\">\r\n      <!-- 15 -->\r\n      <g transform=\"translate(140.931071 239.238437)scale(0.1 -0.1)\">\r\n       <use xlink:href=\"#DejaVuSans-49\"/>\r\n       <use x=\"63.623047\" xlink:href=\"#DejaVuSans-53\"/>\r\n      </g>\r\n     </g>\r\n    </g>\r\n    <g id=\"xtick_5\">\r\n     <g id=\"line2d_5\">\r\n      <g>\r\n       <use style=\"stroke:#000000;stroke-width:0.8;\" x=\"186.122143\" xlink:href=\"#mf270bbc336\" y=\"224.64\"/>\r\n      </g>\r\n     </g>\r\n     <g id=\"text_5\">\r\n      <!-- 20 -->\r\n      <g transform=\"translate(179.759643 239.238437)scale(0.1 -0.1)\">\r\n       <defs>\r\n        <path d=\"M 19.1875 8.296875 \r\nL 53.609375 8.296875 \r\nL 53.609375 0 \r\nL 7.328125 0 \r\nL 7.328125 8.296875 \r\nQ 12.9375 14.109375 22.625 23.890625 \r\nQ 32.328125 33.6875 34.8125 36.53125 \r\nQ 39.546875 41.84375 41.421875 45.53125 \r\nQ 43.3125 49.21875 43.3125 52.78125 \r\nQ 43.3125 58.59375 39.234375 62.25 \r\nQ 35.15625 65.921875 28.609375 65.921875 \r\nQ 23.96875 65.921875 18.8125 64.3125 \r\nQ 13.671875 62.703125 7.8125 59.421875 \r\nL 7.8125 69.390625 \r\nQ 13.765625 71.78125 18.9375 73 \r\nQ 24.125 74.21875 28.421875 74.21875 \r\nQ 39.75 74.21875 46.484375 68.546875 \r\nQ 53.21875 62.890625 53.21875 53.421875 \r\nQ 53.21875 48.921875 51.53125 44.890625 \r\nQ 49.859375 40.875 45.40625 35.40625 \r\nQ 44.1875 33.984375 37.640625 27.21875 \r\nQ 31.109375 20.453125 19.1875 8.296875 \r\nz\r\n\" id=\"DejaVuSans-50\"/>\r\n       </defs>\r\n       <use xlink:href=\"#DejaVuSans-50\"/>\r\n       <use x=\"63.623047\" xlink:href=\"#DejaVuSans-48\"/>\r\n      </g>\r\n     </g>\r\n    </g>\r\n    <g id=\"xtick_6\">\r\n     <g id=\"line2d_6\">\r\n      <g>\r\n       <use style=\"stroke:#000000;stroke-width:0.8;\" x=\"224.950714\" xlink:href=\"#mf270bbc336\" y=\"224.64\"/>\r\n      </g>\r\n     </g>\r\n     <g id=\"text_6\">\r\n      <!-- 25 -->\r\n      <g transform=\"translate(218.588214 239.238437)scale(0.1 -0.1)\">\r\n       <use xlink:href=\"#DejaVuSans-50\"/>\r\n       <use x=\"63.623047\" xlink:href=\"#DejaVuSans-53\"/>\r\n      </g>\r\n     </g>\r\n    </g>\r\n   </g>\r\n   <g id=\"matplotlib.axis_2\">\r\n    <g id=\"ytick_1\">\r\n     <g id=\"line2d_7\">\r\n      <defs>\r\n       <path d=\"M 0 0 \r\nL -3.5 0 \r\n\" id=\"mfa754fe2cc\" style=\"stroke:#000000;stroke-width:0.8;\"/>\r\n      </defs>\r\n      <g>\r\n       <use style=\"stroke:#000000;stroke-width:0.8;\" x=\"26.925\" xlink:href=\"#mfa754fe2cc\" y=\"11.082857\"/>\r\n      </g>\r\n     </g>\r\n     <g id=\"text_7\">\r\n      <!-- 0 -->\r\n      <g transform=\"translate(13.5625 14.882076)scale(0.1 -0.1)\">\r\n       <use xlink:href=\"#DejaVuSans-48\"/>\r\n      </g>\r\n     </g>\r\n    </g>\r\n    <g id=\"ytick_2\">\r\n     <g id=\"line2d_8\">\r\n      <g>\r\n       <use style=\"stroke:#000000;stroke-width:0.8;\" x=\"26.925\" xlink:href=\"#mfa754fe2cc\" y=\"49.911429\"/>\r\n      </g>\r\n     </g>\r\n     <g id=\"text_8\">\r\n      <!-- 5 -->\r\n      <g transform=\"translate(13.5625 53.710647)scale(0.1 -0.1)\">\r\n       <use xlink:href=\"#DejaVuSans-53\"/>\r\n      </g>\r\n     </g>\r\n    </g>\r\n    <g id=\"ytick_3\">\r\n     <g id=\"line2d_9\">\r\n      <g>\r\n       <use style=\"stroke:#000000;stroke-width:0.8;\" x=\"26.925\" xlink:href=\"#mfa754fe2cc\" y=\"88.74\"/>\r\n      </g>\r\n     </g>\r\n     <g id=\"text_9\">\r\n      <!-- 10 -->\r\n      <g transform=\"translate(7.2 92.539219)scale(0.1 -0.1)\">\r\n       <use xlink:href=\"#DejaVuSans-49\"/>\r\n       <use x=\"63.623047\" xlink:href=\"#DejaVuSans-48\"/>\r\n      </g>\r\n     </g>\r\n    </g>\r\n    <g id=\"ytick_4\">\r\n     <g id=\"line2d_10\">\r\n      <g>\r\n       <use style=\"stroke:#000000;stroke-width:0.8;\" x=\"26.925\" xlink:href=\"#mfa754fe2cc\" y=\"127.568571\"/>\r\n      </g>\r\n     </g>\r\n     <g id=\"text_10\">\r\n      <!-- 15 -->\r\n      <g transform=\"translate(7.2 131.36779)scale(0.1 -0.1)\">\r\n       <use xlink:href=\"#DejaVuSans-49\"/>\r\n       <use x=\"63.623047\" xlink:href=\"#DejaVuSans-53\"/>\r\n      </g>\r\n     </g>\r\n    </g>\r\n    <g id=\"ytick_5\">\r\n     <g id=\"line2d_11\">\r\n      <g>\r\n       <use style=\"stroke:#000000;stroke-width:0.8;\" x=\"26.925\" xlink:href=\"#mfa754fe2cc\" y=\"166.397143\"/>\r\n      </g>\r\n     </g>\r\n     <g id=\"text_11\">\r\n      <!-- 20 -->\r\n      <g transform=\"translate(7.2 170.196362)scale(0.1 -0.1)\">\r\n       <use xlink:href=\"#DejaVuSans-50\"/>\r\n       <use x=\"63.623047\" xlink:href=\"#DejaVuSans-48\"/>\r\n      </g>\r\n     </g>\r\n    </g>\r\n    <g id=\"ytick_6\">\r\n     <g id=\"line2d_12\">\r\n      <g>\r\n       <use style=\"stroke:#000000;stroke-width:0.8;\" x=\"26.925\" xlink:href=\"#mfa754fe2cc\" y=\"205.225714\"/>\r\n      </g>\r\n     </g>\r\n     <g id=\"text_12\">\r\n      <!-- 25 -->\r\n      <g transform=\"translate(7.2 209.024933)scale(0.1 -0.1)\">\r\n       <use xlink:href=\"#DejaVuSans-50\"/>\r\n       <use x=\"63.623047\" xlink:href=\"#DejaVuSans-53\"/>\r\n      </g>\r\n     </g>\r\n    </g>\r\n   </g>\r\n   <g id=\"patch_3\">\r\n    <path d=\"M 26.925 224.64 \r\nL 26.925 7.2 \r\n\" style=\"fill:none;stroke:#000000;stroke-linecap:square;stroke-linejoin:miter;stroke-width:0.8;\"/>\r\n   </g>\r\n   <g id=\"patch_4\">\r\n    <path d=\"M 244.365 224.64 \r\nL 244.365 7.2 \r\n\" style=\"fill:none;stroke:#000000;stroke-linecap:square;stroke-linejoin:miter;stroke-width:0.8;\"/>\r\n   </g>\r\n   <g id=\"patch_5\">\r\n    <path d=\"M 26.925 224.64 \r\nL 244.365 224.64 \r\n\" style=\"fill:none;stroke:#000000;stroke-linecap:square;stroke-linejoin:miter;stroke-width:0.8;\"/>\r\n   </g>\r\n   <g id=\"patch_6\">\r\n    <path d=\"M 26.925 7.2 \r\nL 244.365 7.2 \r\n\" style=\"fill:none;stroke:#000000;stroke-linecap:square;stroke-linejoin:miter;stroke-width:0.8;\"/>\r\n   </g>\r\n  </g>\r\n </g>\r\n <defs>\r\n  <clipPath id=\"pef78136df8\">\r\n   <rect height=\"217.44\" width=\"217.44\" x=\"26.925\" y=\"7.2\"/>\r\n  </clipPath>\r\n </defs>\r\n</svg>\r\n",
      "image/png": "[encoded data removed]"
     },
     "metadata": {
      "needs_background": "light"
     }
    }
   ],
   "source": [
    "plt.imshow(x_test[2].reshape([28,28]))"
   ]
  },
  {
   "cell_type": "code",
   "execution_count": 64,
   "metadata": {},
   "outputs": [
    {
     "output_type": "execute_result",
     "data": {
      "text/plain": [
       "   pixel0  pixel1  pixel2  pixel3  ...  pixel780  pixel781  pixel782  pixel783\n",
       "0       0       0       0       0  ...         0         0         0         0\n",
       "1       0       0       0       0  ...         0         0         0         0\n",
       "2       0       0       0       0  ...         0         0         0         0\n",
       "3       0       0       0       0  ...         0         0         0         0\n",
       "4       0       0       0       0  ...         0         0         0         0\n",
       "\n",
       "[5 rows x 784 columns]"
      ],
      "text/html": "<div>\n<style scoped>\n    .dataframe tbody tr th:only-of-type {\n        vertical-align: middle;\n    }\n\n    .dataframe tbody tr th {\n        vertical-align: top;\n    }\n\n    .dataframe thead th {\n        text-align: right;\n    }\n</style>\n<table border=\"1\" class=\"dataframe\">\n  <thead>\n    <tr style=\"text-align: right;\">\n      <th></th>\n      <th>pixel0</th>\n      <th>pixel1</th>\n      <th>pixel2</th>\n      <th>pixel3</th>\n      <th>pixel4</th>\n      <th>pixel5</th>\n      <th>pixel6</th>\n      <th>pixel7</th>\n      <th>pixel8</th>\n      <th>pixel9</th>\n      <th>pixel10</th>\n      <th>pixel11</th>\n      <th>pixel12</th>\n      <th>pixel13</th>\n      <th>pixel14</th>\n      <th>pixel15</th>\n      <th>pixel16</th>\n      <th>pixel17</th>\n      <th>pixel18</th>\n      <th>pixel19</th>\n      <th>pixel20</th>\n      <th>pixel21</th>\n      <th>pixel22</th>\n      <th>pixel23</th>\n      <th>pixel24</th>\n      <th>pixel25</th>\n      <th>pixel26</th>\n      <th>pixel27</th>\n      <th>pixel28</th>\n      <th>pixel29</th>\n      <th>pixel30</th>\n      <th>pixel31</th>\n      <th>pixel32</th>\n      <th>pixel33</th>\n      <th>pixel34</th>\n      <th>pixel35</th>\n      <th>pixel36</th>\n      <th>pixel37</th>\n      <th>pixel38</th>\n      <th>pixel39</th>\n      <th>...</th>\n      <th>pixel744</th>\n      <th>pixel745</th>\n      <th>pixel746</th>\n      <th>pixel747</th>\n      <th>pixel748</th>\n      <th>pixel749</th>\n      <th>pixel750</th>\n      <th>pixel751</th>\n      <th>pixel752</th>\n      <th>pixel753</th>\n      <th>pixel754</th>\n      <th>pixel755</th>\n      <th>pixel756</th>\n      <th>pixel757</th>\n      <th>pixel758</th>\n      <th>pixel759</th>\n      <th>pixel760</th>\n      <th>pixel761</th>\n      <th>pixel762</th>\n      <th>pixel763</th>\n      <th>pixel764</th>\n      <th>pixel765</th>\n      <th>pixel766</th>\n      <th>pixel767</th>\n      <th>pixel768</th>\n      <th>pixel769</th>\n      <th>pixel770</th>\n      <th>pixel771</th>\n      <th>pixel772</th>\n      <th>pixel773</th>\n      <th>pixel774</th>\n      <th>pixel775</th>\n      <th>pixel776</th>\n      <th>pixel777</th>\n      <th>pixel778</th>\n      <th>pixel779</th>\n      <th>pixel780</th>\n      <th>pixel781</th>\n      <th>pixel782</th>\n      <th>pixel783</th>\n    </tr>\n  </thead>\n  <tbody>\n    <tr>\n      <th>0</th>\n      <td>0</td>\n      <td>0</td>\n      <td>0</td>\n      <td>0</td>\n      <td>0</td>\n      <td>0</td>\n      <td>0</td>\n      <td>0</td>\n      <td>0</td>\n      <td>0</td>\n      <td>0</td>\n      <td>0</td>\n      <td>0</td>\n      <td>0</td>\n      <td>0</td>\n      <td>0</td>\n      <td>0</td>\n      <td>0</td>\n      <td>0</td>\n      <td>0</td>\n      <td>0</td>\n      <td>0</td>\n      <td>0</td>\n      <td>0</td>\n      <td>0</td>\n      <td>0</td>\n      <td>0</td>\n      <td>0</td>\n      <td>0</td>\n      <td>0</td>\n      <td>0</td>\n      <td>0</td>\n      <td>0</td>\n      <td>0</td>\n      <td>0</td>\n      <td>0</td>\n      <td>0</td>\n      <td>0</td>\n      <td>0</td>\n      <td>0</td>\n      <td>...</td>\n      <td>0</td>\n      <td>0</td>\n      <td>0</td>\n      <td>0</td>\n      <td>0</td>\n      <td>0</td>\n      <td>0</td>\n      <td>0</td>\n      <td>0</td>\n      <td>0</td>\n      <td>0</td>\n      <td>0</td>\n      <td>0</td>\n      <td>0</td>\n      <td>0</td>\n      <td>0</td>\n      <td>0</td>\n      <td>0</td>\n      <td>0</td>\n      <td>0</td>\n      <td>0</td>\n      <td>0</td>\n      <td>0</td>\n      <td>0</td>\n      <td>0</td>\n      <td>0</td>\n      <td>0</td>\n      <td>0</td>\n      <td>0</td>\n      <td>0</td>\n      <td>0</td>\n      <td>0</td>\n      <td>0</td>\n      <td>0</td>\n      <td>0</td>\n      <td>0</td>\n      <td>0</td>\n      <td>0</td>\n      <td>0</td>\n      <td>0</td>\n    </tr>\n    <tr>\n      <th>1</th>\n      <td>0</td>\n      <td>0</td>\n      <td>0</td>\n      <td>0</td>\n      <td>0</td>\n      <td>0</td>\n      <td>0</td>\n      <td>0</td>\n      <td>0</td>\n      <td>0</td>\n      <td>0</td>\n      <td>0</td>\n      <td>0</td>\n      <td>0</td>\n      <td>0</td>\n      <td>0</td>\n      <td>0</td>\n      <td>0</td>\n      <td>0</td>\n      <td>0</td>\n      <td>0</td>\n      <td>0</td>\n      <td>0</td>\n      <td>0</td>\n      <td>0</td>\n      <td>0</td>\n      <td>0</td>\n      <td>0</td>\n      <td>0</td>\n      <td>0</td>\n      <td>0</td>\n      <td>0</td>\n      <td>0</td>\n      <td>0</td>\n      <td>0</td>\n      <td>0</td>\n      <td>0</td>\n      <td>0</td>\n      <td>0</td>\n      <td>0</td>\n      <td>...</td>\n      <td>0</td>\n      <td>0</td>\n      <td>0</td>\n      <td>0</td>\n      <td>0</td>\n      <td>0</td>\n      <td>0</td>\n      <td>0</td>\n      <td>0</td>\n      <td>0</td>\n      <td>0</td>\n      <td>0</td>\n      <td>0</td>\n      <td>0</td>\n      <td>0</td>\n      <td>0</td>\n      <td>0</td>\n      <td>0</td>\n      <td>0</td>\n      <td>0</td>\n      <td>0</td>\n      <td>0</td>\n      <td>0</td>\n      <td>0</td>\n      <td>0</td>\n      <td>0</td>\n      <td>0</td>\n      <td>0</td>\n      <td>0</td>\n      <td>0</td>\n      <td>0</td>\n      <td>0</td>\n      <td>0</td>\n      <td>0</td>\n      <td>0</td>\n      <td>0</td>\n      <td>0</td>\n      <td>0</td>\n      <td>0</td>\n      <td>0</td>\n    </tr>\n    <tr>\n      <th>2</th>\n      <td>0</td>\n      <td>0</td>\n      <td>0</td>\n      <td>0</td>\n      <td>0</td>\n      <td>0</td>\n      <td>0</td>\n      <td>0</td>\n      <td>0</td>\n      <td>0</td>\n      <td>0</td>\n      <td>0</td>\n      <td>0</td>\n      <td>0</td>\n      <td>0</td>\n      <td>0</td>\n      <td>0</td>\n      <td>0</td>\n      <td>0</td>\n      <td>0</td>\n      <td>0</td>\n      <td>0</td>\n      <td>0</td>\n      <td>0</td>\n      <td>0</td>\n      <td>0</td>\n      <td>0</td>\n      <td>0</td>\n      <td>0</td>\n      <td>0</td>\n      <td>0</td>\n      <td>0</td>\n      <td>0</td>\n      <td>0</td>\n      <td>0</td>\n      <td>0</td>\n      <td>0</td>\n      <td>0</td>\n      <td>0</td>\n      <td>0</td>\n      <td>...</td>\n      <td>0</td>\n      <td>0</td>\n      <td>0</td>\n      <td>0</td>\n      <td>0</td>\n      <td>0</td>\n      <td>0</td>\n      <td>0</td>\n      <td>0</td>\n      <td>0</td>\n      <td>0</td>\n      <td>0</td>\n      <td>0</td>\n      <td>0</td>\n      <td>0</td>\n      <td>0</td>\n      <td>0</td>\n      <td>0</td>\n      <td>0</td>\n      <td>0</td>\n      <td>0</td>\n      <td>0</td>\n      <td>0</td>\n      <td>0</td>\n      <td>0</td>\n      <td>0</td>\n      <td>0</td>\n      <td>0</td>\n      <td>0</td>\n      <td>0</td>\n      <td>0</td>\n      <td>0</td>\n      <td>0</td>\n      <td>0</td>\n      <td>0</td>\n      <td>0</td>\n      <td>0</td>\n      <td>0</td>\n      <td>0</td>\n      <td>0</td>\n    </tr>\n    <tr>\n      <th>3</th>\n      <td>0</td>\n      <td>0</td>\n      <td>0</td>\n      <td>0</td>\n      <td>0</td>\n      <td>0</td>\n      <td>0</td>\n      <td>0</td>\n      <td>0</td>\n      <td>0</td>\n      <td>0</td>\n      <td>0</td>\n      <td>0</td>\n      <td>0</td>\n      <td>0</td>\n      <td>0</td>\n      <td>0</td>\n      <td>0</td>\n      <td>0</td>\n      <td>0</td>\n      <td>0</td>\n      <td>0</td>\n      <td>0</td>\n      <td>0</td>\n      <td>0</td>\n      <td>0</td>\n      <td>0</td>\n      <td>0</td>\n      <td>0</td>\n      <td>0</td>\n      <td>0</td>\n      <td>0</td>\n      <td>0</td>\n      <td>0</td>\n      <td>0</td>\n      <td>0</td>\n      <td>0</td>\n      <td>0</td>\n      <td>0</td>\n      <td>0</td>\n      <td>...</td>\n      <td>0</td>\n      <td>0</td>\n      <td>0</td>\n      <td>0</td>\n      <td>0</td>\n      <td>0</td>\n      <td>0</td>\n      <td>0</td>\n      <td>0</td>\n      <td>0</td>\n      <td>0</td>\n      <td>0</td>\n      <td>0</td>\n      <td>0</td>\n      <td>0</td>\n      <td>0</td>\n      <td>0</td>\n      <td>0</td>\n      <td>0</td>\n      <td>0</td>\n      <td>0</td>\n      <td>0</td>\n      <td>0</td>\n      <td>0</td>\n      <td>0</td>\n      <td>0</td>\n      <td>0</td>\n      <td>0</td>\n      <td>0</td>\n      <td>0</td>\n      <td>0</td>\n      <td>0</td>\n      <td>0</td>\n      <td>0</td>\n      <td>0</td>\n      <td>0</td>\n      <td>0</td>\n      <td>0</td>\n      <td>0</td>\n      <td>0</td>\n    </tr>\n    <tr>\n      <th>4</th>\n      <td>0</td>\n      <td>0</td>\n      <td>0</td>\n      <td>0</td>\n      <td>0</td>\n      <td>0</td>\n      <td>0</td>\n      <td>0</td>\n      <td>0</td>\n      <td>0</td>\n      <td>0</td>\n      <td>0</td>\n      <td>0</td>\n      <td>0</td>\n      <td>0</td>\n      <td>0</td>\n      <td>0</td>\n      <td>0</td>\n      <td>0</td>\n      <td>0</td>\n      <td>0</td>\n      <td>0</td>\n      <td>0</td>\n      <td>0</td>\n      <td>0</td>\n      <td>0</td>\n      <td>0</td>\n      <td>0</td>\n      <td>0</td>\n      <td>0</td>\n      <td>0</td>\n      <td>0</td>\n      <td>0</td>\n      <td>0</td>\n      <td>0</td>\n      <td>0</td>\n      <td>0</td>\n      <td>0</td>\n      <td>0</td>\n      <td>0</td>\n      <td>...</td>\n      <td>0</td>\n      <td>0</td>\n      <td>0</td>\n      <td>0</td>\n      <td>0</td>\n      <td>0</td>\n      <td>0</td>\n      <td>0</td>\n      <td>0</td>\n      <td>0</td>\n      <td>0</td>\n      <td>0</td>\n      <td>0</td>\n      <td>0</td>\n      <td>0</td>\n      <td>0</td>\n      <td>0</td>\n      <td>0</td>\n      <td>0</td>\n      <td>0</td>\n      <td>0</td>\n      <td>0</td>\n      <td>0</td>\n      <td>0</td>\n      <td>0</td>\n      <td>0</td>\n      <td>0</td>\n      <td>0</td>\n      <td>0</td>\n      <td>0</td>\n      <td>0</td>\n      <td>0</td>\n      <td>0</td>\n      <td>0</td>\n      <td>0</td>\n      <td>0</td>\n      <td>0</td>\n      <td>0</td>\n      <td>0</td>\n      <td>0</td>\n    </tr>\n  </tbody>\n</table>\n<p>5 rows × 784 columns</p>\n</div>"
     },
     "metadata": {},
     "execution_count": 64
    }
   ],
   "source": [
    "# now making the predictions over test data set\n",
    "test_data = pd.read_csv('test.csv')\n",
    "test_data.head()"
   ]
  },
  {
   "cell_type": "code",
   "execution_count": 65,
   "metadata": {},
   "outputs": [],
   "source": [
    "# normalizing the test data\n",
    "test = test_data / 255.0"
   ]
  },
  {
   "cell_type": "code",
   "execution_count": 66,
   "metadata": {},
   "outputs": [],
   "source": [
    "# rshaping the test data\n",
    "test_final_data = test.values.reshape(-1,28,28,1)"
   ]
  },
  {
   "cell_type": "code",
   "execution_count": 67,
   "metadata": {},
   "outputs": [
    {
     "output_type": "execute_result",
     "data": {
      "text/plain": [
       "array([[0., 0., 1., ..., 0., 0., 0.],\n",
       "       [1., 0., 0., ..., 0., 0., 0.],\n",
       "       [0., 0., 0., ..., 0., 0., 1.],\n",
       "       ...,\n",
       "       [0., 0., 0., ..., 0., 0., 0.],\n",
       "       [0., 0., 0., ..., 0., 0., 1.],\n",
       "       [0., 0., 1., ..., 0., 0., 0.]], dtype=float32)"
      ]
     },
     "metadata": {},
     "execution_count": 67
    }
   ],
   "source": [
    "# predicting the model\n",
    "label = cnn.predict(test_final_data)\n",
    "label"
   ]
  },
  {
   "cell_type": "code",
   "execution_count": 68,
   "metadata": {},
   "outputs": [
    {
     "output_type": "execute_result",
     "data": {
      "text/plain": [
       "(28000, 10)"
      ]
     },
     "metadata": {},
     "execution_count": 68
    }
   ],
   "source": [
    "label.shape"
   ]
  },
  {
   "cell_type": "code",
   "execution_count": 69,
   "metadata": {},
   "outputs": [],
   "source": [
    "label = np.argmax(label, axis=1)"
   ]
  },
  {
   "cell_type": "code",
   "execution_count": 70,
   "metadata": {},
   "outputs": [
    {
     "output_type": "execute_result",
     "data": {
      "text/plain": [
       "   ImageId  Label\n",
       "0        1      0\n",
       "1        2      0\n",
       "2        3      0\n",
       "3        4      0\n",
       "4        5      0"
      ],
      "text/html": "<div>\n<style scoped>\n    .dataframe tbody tr th:only-of-type {\n        vertical-align: middle;\n    }\n\n    .dataframe tbody tr th {\n        vertical-align: top;\n    }\n\n    .dataframe thead th {\n        text-align: right;\n    }\n</style>\n<table border=\"1\" class=\"dataframe\">\n  <thead>\n    <tr style=\"text-align: right;\">\n      <th></th>\n      <th>ImageId</th>\n      <th>Label</th>\n    </tr>\n  </thead>\n  <tbody>\n    <tr>\n      <th>0</th>\n      <td>1</td>\n      <td>0</td>\n    </tr>\n    <tr>\n      <th>1</th>\n      <td>2</td>\n      <td>0</td>\n    </tr>\n    <tr>\n      <th>2</th>\n      <td>3</td>\n      <td>0</td>\n    </tr>\n    <tr>\n      <th>3</th>\n      <td>4</td>\n      <td>0</td>\n    </tr>\n    <tr>\n      <th>4</th>\n      <td>5</td>\n      <td>0</td>\n    </tr>\n  </tbody>\n</table>\n</div>"
     },
     "metadata": {},
     "execution_count": 70
    }
   ],
   "source": [
    "sample_submission = pd.read_csv('sample_submission.csv')\n",
    "sample_submission.head()"
   ]
  },
  {
   "cell_type": "code",
   "execution_count": 71,
   "metadata": {},
   "outputs": [
    {
     "output_type": "execute_result",
     "data": {
      "text/plain": [
       "   ImageId  Label\n",
       "0        1      2\n",
       "1        2      0\n",
       "2        3      9\n",
       "3        4      0\n",
       "4        5      3"
      ],
      "text/html": "<div>\n<style scoped>\n    .dataframe tbody tr th:only-of-type {\n        vertical-align: middle;\n    }\n\n    .dataframe tbody tr th {\n        vertical-align: top;\n    }\n\n    .dataframe thead th {\n        text-align: right;\n    }\n</style>\n<table border=\"1\" class=\"dataframe\">\n  <thead>\n    <tr style=\"text-align: right;\">\n      <th></th>\n      <th>ImageId</th>\n      <th>Label</th>\n    </tr>\n  </thead>\n  <tbody>\n    <tr>\n      <th>0</th>\n      <td>1</td>\n      <td>2</td>\n    </tr>\n    <tr>\n      <th>1</th>\n      <td>2</td>\n      <td>0</td>\n    </tr>\n    <tr>\n      <th>2</th>\n      <td>3</td>\n      <td>9</td>\n    </tr>\n    <tr>\n      <th>3</th>\n      <td>4</td>\n      <td>0</td>\n    </tr>\n    <tr>\n      <th>4</th>\n      <td>5</td>\n      <td>3</td>\n    </tr>\n  </tbody>\n</table>\n</div>"
     },
     "metadata": {},
     "execution_count": 71
    }
   ],
   "source": [
    "#Creating the file ready with rows and Columns feild\n",
    "index = test_data.index.values + 1\n",
    "data = {'ImageId' : index, \"Label\" : label}\n",
    "df = pd.DataFrame(data=data)\n",
    "df.head()"
   ]
  },
  {
   "cell_type": "code",
   "execution_count": 72,
   "metadata": {},
   "outputs": [],
   "source": [
    "submit_file = pd.DataFrame({'ImageId' : index, \"Label\" : label.astype(int).ravel()})\n",
    "submit_file.to_csv(\"submission.csv\",index = False)"
   ]
  },
  {
   "cell_type": "code",
   "execution_count": 73,
   "metadata": {},
   "outputs": [
    {
     "output_type": "execute_result",
     "data": {
      "text/plain": [
       "       ImageId  Label\n",
       "0            1      2\n",
       "1            2      0\n",
       "2            3      9\n",
       "3            4      0\n",
       "4            5      3\n",
       "...        ...    ...\n",
       "27995    27996      9\n",
       "27996    27997      7\n",
       "27997    27998      3\n",
       "27998    27999      9\n",
       "27999    28000      2\n",
       "\n",
       "[28000 rows x 2 columns]"
      ],
      "text/html": "<div>\n<style scoped>\n    .dataframe tbody tr th:only-of-type {\n        vertical-align: middle;\n    }\n\n    .dataframe tbody tr th {\n        vertical-align: top;\n    }\n\n    .dataframe thead th {\n        text-align: right;\n    }\n</style>\n<table border=\"1\" class=\"dataframe\">\n  <thead>\n    <tr style=\"text-align: right;\">\n      <th></th>\n      <th>ImageId</th>\n      <th>Label</th>\n    </tr>\n  </thead>\n  <tbody>\n    <tr>\n      <th>0</th>\n      <td>1</td>\n      <td>2</td>\n    </tr>\n    <tr>\n      <th>1</th>\n      <td>2</td>\n      <td>0</td>\n    </tr>\n    <tr>\n      <th>2</th>\n      <td>3</td>\n      <td>9</td>\n    </tr>\n    <tr>\n      <th>3</th>\n      <td>4</td>\n      <td>0</td>\n    </tr>\n    <tr>\n      <th>4</th>\n      <td>5</td>\n      <td>3</td>\n    </tr>\n    <tr>\n      <th>...</th>\n      <td>...</td>\n      <td>...</td>\n    </tr>\n    <tr>\n      <th>27995</th>\n      <td>27996</td>\n      <td>9</td>\n    </tr>\n    <tr>\n      <th>27996</th>\n      <td>27997</td>\n      <td>7</td>\n    </tr>\n    <tr>\n      <th>27997</th>\n      <td>27998</td>\n      <td>3</td>\n    </tr>\n    <tr>\n      <th>27998</th>\n      <td>27999</td>\n      <td>9</td>\n    </tr>\n    <tr>\n      <th>27999</th>\n      <td>28000</td>\n      <td>2</td>\n    </tr>\n  </tbody>\n</table>\n<p>28000 rows × 2 columns</p>\n</div>"
     },
     "metadata": {},
     "execution_count": 73
    }
   ],
   "source": [
    "submit_file"
   ]
  }
 ]
}